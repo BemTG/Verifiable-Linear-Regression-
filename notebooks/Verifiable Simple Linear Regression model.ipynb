{
 "cells": [
  {
   "cell_type": "markdown",
   "id": "4a28cde5",
   "metadata": {},
   "source": [
    "# Verifiable Simple Linear Regression model\n",
    "\n",
    "Simple Linear Regression model is a foundational technique used to determine the linear relationship between an independent variables (predictors) and a dependent variable (outcome) . By identifying the line of best fit, we can make informed predictions based on new data points or decipher how changes in one variable may lead to changes in another. \n",
    "\n",
    "The following is a small run through of the implementation of a Simple Linear Regression model using <b>Ordinary Least Squares</b> (OLS) in python, which we will in later stages convert it to Cairo  to turn it into a  <b>\"Verifiable Linear Regression model\" </b>. By utilysing the <b>Orion's</b> library we will be able to add an extra layer of transparency and robustness enabling us to make <b>verifiable inferences</b>  which  can be easily <b>proved</b> using the LambdaClass STARK Prover.\n",
    "\n",
    "In this particular exercise, we'll replicate the entire linear regression model in Cairo. This approach will not only enable us to validate each individual inference made to the model but also allow us to verify all the steps executed during the model's construction phase also. This is to provide an opportunity to get familiar with Orion's main functions and operators along the process. \n"
   ]
  },
  {
   "cell_type": "markdown",
   "id": "2d479a73",
   "metadata": {},
   "source": [
    "# Generate a synthetic dataset"
   ]
  },
  {
   "cell_type": "code",
   "execution_count": 5,
   "id": "f60750c4",
   "metadata": {},
   "outputs": [
    {
     "name": "stdout",
     "output_type": "stream",
     "text": [
      "X values =  [-10  -9  -9  -9  -9  -8  -8  -8  -8  -7  -7  -7  -7  -6  -6  -6  -6  -6\n",
      "  -5  -5  -5  -5  -4  -4  -4  -4  -3  -3  -3  -3  -2  -2  -2  -2  -2  -1\n",
      "  -1  -1  -1   0   0   0   0   0   0   0   0   1   1   1   1   1   2   2\n",
      "   2   2   3   3   3   3   4   4   4   4   5   5   5   5   5   6   6   6\n",
      "   6   7   7   7   7   8   8   8   8   9   9   9   9   9  10  10  10  10\n",
      "  11  11  11  11  12  12  12  12  13  13  13  13  13  14  14  14  14  15\n",
      "  15  15  15  16  16  16  16  17  17  17  17  17  18  18  18  18  19  19\n",
      "  19  19  20  20  20  20  21  21  21  21  21  22  22  22  22  23  23  23\n",
      "  23  24  24  24  24  25]\n",
      "y values =  [-11 -14  -7   2 -15 -13   4  -4 -15  -4 -13 -13  -7 -26 -24 -12 -17  -4\n",
      " -14 -19   9  -7  -3 -17  -8  -2 -12   2  -7  -3  -5  19   1  -9   9  -9\n",
      "   5 -16 -10   6  12   6   4   2  -9  -2   1  17  10 -10  10   4   3  15\n",
      "  19  18   3   8  14  20   9  12   2   2  23  28  15  25  18  11  20  32\n",
      "  17  34  -7  27  19  19  21   2  19  26  37  18  15  18  34  28  20  30\n",
      "  27  36  20  24  26  15  31  31  31  29  17  27  28  25  32  37  51  36\n",
      "  37  35  16  37  37  61  36  42  39  28  50  46  48  32  55  27  48  64\n",
      "  34  38  45  40  30  45  37  51  38  62  40  46  57  37  51  64  35  52\n",
      "  53  60  41  40  58  57]\n"
     ]
    }
   ],
   "source": [
    "import numpy as np\n",
    "import os\n",
    "import matplotlib.pyplot as plt\n",
    "\n",
    "# Constants for reproducibility\n",
    "SEED = 42\n",
    "np.random.seed(SEED)\n",
    "\n",
    "\n",
    "X = np.linspace(-10, 25, 150).astype('int8')\n",
    "noise = np.random.normal(0, 10, len(X)).astype('int8')\n",
    "y = 2 * X + 5 + noise # y=2x+5 + error\n",
    "\n",
    "print('X values = ',X)\n",
    "print('y values = ', y)\n",
    "   \n"
   ]
  },
  {
   "cell_type": "code",
   "execution_count": 6,
   "id": "fa6fc5c0",
   "metadata": {},
   "outputs": [
    {
     "data": {
      "text/plain": [
       "Text(0, 0.5, 'y values')"
      ]
     },
     "execution_count": 6,
     "metadata": {},
     "output_type": "execute_result"
    },
    {
     "data": {
      "image/png": "[encoded data removed]",
      "text/plain": [
       "<Figure size 640x480 with 1 Axes>"
      ]
     },
     "metadata": {},
     "output_type": "display_data"
    }
   ],
   "source": [
    "plt.scatter(X,y)\n",
    "plt.xlabel('X values')\n",
    "plt.ylabel('y values')"
   ]
  },
  {
   "cell_type": "markdown",
   "id": "68a91d93",
   "metadata": {},
   "source": [
    "# Equation of a straight line \n",
    "\n",
    "<br>\n",
    "\n",
    "<img src=\"line_equation.gif\" width=\"200px\" height=\"200px\" align=\"left\">   <br><br>\n",
    "\n",
    "**y:** y values  \n",
    "**x:** x values  \n",
    "**b:** gradient  \n",
    "**a:** y intercept  \n"
   ]
  },
  {
   "cell_type": "markdown",
   "id": "4999fbae",
   "metadata": {},
   "source": [
    "# Calculating the gradient of the line of best fit\n",
    "<br>\n",
    "\n",
    "<img src=\"gradient.png\" width=\"230px\" height=\"230px\" align=\"left\">"
   ]
  },
  {
   "cell_type": "code",
   "execution_count": 7,
   "id": "7fe2a45b",
   "metadata": {},
   "outputs": [
    {
     "name": "stdout",
     "output_type": "stream",
     "text": [
      "The slope of regression line: 2.0315325245038856\n"
     ]
    }
   ],
   "source": [
    "numerator = sum((X - X.mean()) * (y - y.mean()))\n",
    "denominator = sum((X - X.mean())**2)\n",
    "\n",
    "beta = numerator / denominator\n",
    "print('The slope of regression line:', beta)"
   ]
  },
  {
   "cell_type": "markdown",
   "id": "5d126c20",
   "metadata": {},
   "source": [
    "# Calculating the y intercept\n",
    "\n",
    "<br>\n",
    "\n",
    "<img src=\"intercept.png\" width=\"150px\" height=\"150px\" align=\"left\">"
   ]
  },
  {
   "cell_type": "code",
   "execution_count": 8,
   "id": "4f3979d7",
   "metadata": {},
   "outputs": [
    {
     "name": "stdout",
     "output_type": "stream",
     "text": [
      "The y intercept of our regression line: 3.916899671448352\n"
     ]
    }
   ],
   "source": [
    "intercept = y.mean() - beta * X.mean()\n",
    "print('The y intercept of our regression line:', intercept)"
   ]
  },
  {
   "cell_type": "code",
   "execution_count": 9,
   "id": "88c5f347",
   "metadata": {},
   "outputs": [
    {
     "name": "stdout",
     "output_type": "stream",
     "text": [
      "Given x=17 , our model predicts the corresponing y value shoud be 38.45295258801441\n"
     ]
    }
   ],
   "source": [
    "# making new predictions using our model\n",
    "predicted_y_value = beta * 17 + intercept \n",
    "print(f'Given x=17 , our model predicts the corresponing y value shoud be {predicted_y_value}')"
   ]
  },
  {
   "cell_type": "code",
   "execution_count": 10,
   "id": "d73113cf",
   "metadata": {},
   "outputs": [
    {
     "data": {
      "image/png": "[encoded data removed]",
      "text/plain": [
       "<Figure size 640x480 with 1 Axes>"
      ]
     },
     "metadata": {},
     "output_type": "display_data"
    },
    {
     "name": "stdout",
     "output_type": "stream",
     "text": [
      "Calculated beta: 2.0315325245038856\n",
      "Calculated intercept: 3.916899671448352\n"
     ]
    }
   ],
   "source": [
    "plt.scatter(X, y, label='Data Points')\n",
    "plt.plot(X, beta * X + intercept, color='red', label='Regression Line')\n",
    "plt.scatter(17,predicted_y_value, color='green', label='pred for x = 17 ')\n",
    "plt.xlabel('X')\n",
    "plt.ylabel('y')\n",
    "plt.title('Linear Regression')\n",
    "plt.legend()\n",
    "plt.grid(True)\n",
    "plt.show()\n",
    "\n",
    "\n",
    "print(f\"Calculated beta: {beta}\")\n",
    "print(f\"Calculated intercept: {intercept}\")\n"
   ]
  },
  {
   "cell_type": "markdown",
   "id": "07ce1abf",
   "metadata": {},
   "source": [
    "# Calculating the accuracy of our linear regression model\n",
    "\n",
    "\n"
   ]
  },
  {
   "cell_type": "code",
   "execution_count": 11,
   "id": "e4a526a3",
   "metadata": {},
   "outputs": [
    {
     "name": "stdout",
     "output_type": "stream",
     "text": [
      "Mean Squared Error (MSE): 81.78873049706822\n",
      "R-squared (R^2): 0.8303237877258618\n"
     ]
    }
   ],
   "source": [
    "y_pred = beta * X + intercept\n",
    "\n",
    "mse = np.mean((y - y_pred)**2)\n",
    "y_mean = np.mean(y)\n",
    "r_squared = 1 - np.sum((y - y_pred)**2) / np.sum((y - y_mean)**2)\n",
    "\n",
    "\n",
    "print(\"Mean Squared Error (MSE):\", mse)\n",
    "print(\"R-squared (R^2):\", r_squared)\n",
    "\n"
   ]
  },
  {
   "cell_type": "markdown",
   "id": "f0e27741",
   "metadata": {},
   "source": [
    "#  Replicating the linear regression model using the Orion library\n",
    "\n"
   ]
  },
  {
   "cell_type": "markdown",
   "id": "da10af23",
   "metadata": {},
   "source": [
    "### Create a scarb project \n",
    "Scarb is the Cairo package manager specifically created to streamline our Cairo and Starknet development process. You can find all information about Scarb and Cairo installation <a src='https://github.com/gizatechxyz/orion/blob/develop/docs/framework/get-started.md#installations'>here</a>"
   ]
  },
  {
   "cell_type": "code",
   "execution_count": null,
   "id": "a07f433b",
   "metadata": {},
   "outputs": [],
   "source": [
    "! scarb new verifiable_linear_regression"
   ]
  },
  {
   "cell_type": "markdown",
   "id": "b27b16d7",
   "metadata": {},
   "source": [
    "A new project folder will be created for you and make sure to replace the content in Scarb.toml file with the following code:"
   ]
  },
  {
   "cell_type": "markdown",
   "id": "06745de8",
   "metadata": {},
   "source": [
    "```tom\n",
    "[package]\n",
    "name = \"verifiable_linear_regression\"\n",
    "version = \"0.1.0\"\n",
    "\n",
    "[dependencies]\n",
    "orion = { git = \"https://github.com/gizatechxyz/orion.git\", branch = \"develop\"   }\n",
    "\n",
    "[scripts]\n",
    "test = \"scarb cairo-test -f linear_regression_test\"\n",
    "\n",
    "```\n"
   ]
  },
  {
   "cell_type": "markdown",
   "id": "1d2536ce",
   "metadata": {},
   "source": [
    "### Generate the x and y values in cairo and importing the neccessary libs\n",
    "\n"
   ]
  },
  {
   "cell_type": "code",
   "execution_count": 3,
   "id": "c1b1057f",
   "metadata": {},
   "outputs": [],
   "source": [
    "tensor_name =['X_values', 'Y_values']\n",
    "\n",
    "def generate_cairo_files(data, name):\n",
    "    \n",
    "    os.makedirs('src/generated', exist_ok=True)\n",
    "    with open(os.path.join('src', 'generated', f\"{name}.cairo\"), \"w\") as f:\n",
    "            f.write(\n",
    "                \"use array::ArrayTrait;\\n\" +\n",
    "                \"use orion::operators::tensor::core::{TensorTrait, Tensor, ExtraParams};\\n\" +\n",
    "                \"use orion::operators::tensor::implementations::impl_tensor_i32::Tensor_i32;\\n\" +\n",
    "                \"use orion::numbers::signed_integer::i32::i32;\\n\\n\" +\n",
    "                \"use orion::numbers::fixed_point::core::{FixedTrait, FixedType, FixedImpl};\\n\"\n",
    "                \"use orion::operators::tensor::implementations::impl_tensor_fp::Tensor_fp;\\n\"\n",
    "                \"use orion::numbers::fixed_point::implementations::impl_16x16::{FP16x16Impl, FP16x16Into, FP16x16PartialEq }; \\n\"+\n",
    "                \"fn {0}() -> Tensor<FixedType>  \".format(name) + \"{\\n\" +\n",
    "                \"    let mut shape = ArrayTrait::new();\\n\"\n",
    "            )\n",
    "            for dim in data.shape:\n",
    "                f.write(\"    shape.append({0});\\n\".format(dim))\n",
    "            f.write(\n",
    "                \"    let mut data = ArrayTrait::new();\\n\"\n",
    "            )\n",
    "            for val in np.nditer(data.flatten()):\n",
    "                f.write(\"    data.append(FixedTrait::new_unscaled({0}, {1} ));\\n\".format(abs(int(val)), str(val < 0).lower()))\n",
    "            f.write(\n",
    "                \"let extra = ExtraParams { fixed_point: Option::Some(FixedImpl::FP16x16(())) }; \\n\" +\n",
    "                \"let tensor = TensorTrait::<FixedType>::new(shape.span(), data.span(), Option::Some(extra)); \\n \\n\" +\n",
    "                \"return tensor;\\n\\n\"+\n",
    "                \"}\\n\"\n",
    "            )\n",
    "    with open(os.path.join('src', 'generated.cairo'), 'w') as f:\n",
    "        for param_name in tensor_name:\n",
    "            f.write(f\"mod {param_name};\\n\")"
   ]
  },
  {
   "cell_type": "code",
   "execution_count": 12,
   "id": "e1f168e7",
   "metadata": {},
   "outputs": [],
   "source": [
    "generate_cairo_files(X, 'X_values')\n",
    "generate_cairo_files(y, 'Y_values')"
   ]
  },
  {
   "cell_type": "markdown",
   "id": "31671139",
   "metadata": {},
   "source": [
    "## Building our OLS functions in cairo using Orion lib"
   ]
  },
  {
   "cell_type": "code",
   "execution_count": 1,
   "id": "c7204a1b",
   "metadata": {},
   "outputs": [
    {
     "name": "stderr",
     "output_type": "stream",
     "text": [
      "'touch' is not recognized as an internal or external command,\n",
      "operable program or batch file.\n"
     ]
    }
   ],
   "source": [
    "! touch ../src/lin_reg_func.cairo"
   ]
  },
  {
   "cell_type": "code",
   "execution_count": 2,
   "id": "4c0b8e16",
   "metadata": {},
   "outputs": [
    {
     "name": "stdout",
     "output_type": "stream",
     "text": [
      "Overwriting src/lin_reg_func.cairo\n"
     ]
    }
   ],
   "source": [
    "%%writefile ../src/lin_reg_func.cairo\n",
    "\n",
    "use core::array::SpanTrait;\n",
    "use traits::Into;\n",
    "use debug::PrintTrait;\n",
    "use array::ArrayTrait;\n",
    "\n",
    "use orion::operators::tensor::math::cumsum::cumsum_i32::cumsum;\n",
    "use orion::operators::tensor::implementations::{impl_tensor_u32::Tensor_u32, impl_tensor_fp::Tensor_fp};\n",
    "use orion::operators::tensor::core::{TensorTrait, Tensor, ExtraParams};\n",
    "use orion::operators::tensor::math::arithmetic::arithmetic_fp::core::{add, sub, mul, div};\n",
    "use orion::numbers::fixed_point::core::{FixedTrait, FixedType, FixedImpl};\n",
    "use orion::numbers::fixed_point::implementations::impl_16x16::{\n",
    "    FP16x16Impl, FP16x16Add, FP16x16AddEq, FP16x16Into, FP16x16Print, FP16x16PartialEq, FP16x16Sub,\n",
    "    FP16x16SubEq, FP16x16Mul, FP16x16MulEq, FP16x16Div, FP16x16DivEq, FP16x16PartialOrd, FP16x16Neg\n",
    "};\n",
    "\n",
    "use orion::operators::tensor::linalg::matmul::matmul_fp::core::matmul;\n",
    "\n",
    "/// Calculates the mean of a given 1D tensor.\n",
    "fn calculate_mean(tensor_data: Tensor<FixedType>) -> FixedType {\n",
    "\n",
    "    let tensor_size = FP16x16Impl::from_unscaled_felt(tensor_data.data.len().into());\n",
    "\n",
    "    let cumulated_sum = tensor_data.cumsum(0, Option::None(()), Option::None(()));\n",
    "    let sum_result = cumulated_sum.data[tensor_data.data.len()  - 1];\n",
    "    let mean = FP16x16Div::div(*sum_result, tensor_size);\n",
    "\n",
    "    return mean;\n",
    "}\n",
    "\n",
    "/// Calculates the deviation of each element from the mean of the provided 1D tensor.\n",
    "fn deviation_from_mean(tensor_data: Tensor<FixedType> ) -> Tensor<FixedType> {\n",
    "\n",
    "    let mean_value = calculate_mean(tensor_data);\n",
    "\n",
    "    let mut tensor_shape = array::ArrayTrait::new();\n",
    "    tensor_shape.append(tensor_data.data.len());\n",
    "\n",
    "    let mut deviation_values = array::ArrayTrait::new();\n",
    "\n",
    "    let mut i:u32 = 0;\n",
    "    loop {\n",
    "        if i >= tensor_data.data.len()  {\n",
    "            break();\n",
    "        }\n",
    "        let distance_from_mean = *tensor_data.data.at(i) - mean_value;\n",
    "        deviation_values.append(distance_from_mean);\n",
    "        i += 1;\n",
    "        };\n",
    "\n",
    "    let extra = ExtraParams { fixed_point: Option::Some(FixedImpl::FP16x16(())) };\n",
    "    let distance_from_mean_tensor = TensorTrait::<FixedType>::new(tensor_shape.span(), deviation_values.span(), Option::Some(extra));\n",
    "\n",
    "    return distance_from_mean_tensor;\n",
    "\n",
    "}\n",
    "\n",
    "\n",
    "\n",
    "/// Calculates the beta value for linear regression.\n",
    "fn compute_beta(x_values: Tensor<FixedType>, y_values: Tensor<FixedType> ) -> FixedType {\n",
    "\n",
    "    let x_deviation = deviation_from_mean(x_values);\n",
    "    let y_deviation = deviation_from_mean(y_values);\n",
    "\n",
    "    let x_y_covariance = x_deviation.matmul(@y_deviation);\n",
    "    let x_variance = x_deviation.matmul(@x_deviation);\n",
    "\n",
    "    let beta_value = FP16x16Div::div(*x_y_covariance.data.at(0), *x_variance.data.at(0));\n",
    "\n",
    "    return beta_value;\n",
    "\n",
    "}\n",
    "\n",
    "/// Calculates the intercept for linear regression.\n",
    "fn compute_intercept(beta_value:FixedType, x_values: Tensor<FixedType>, y_values: Tensor<FixedType>) -> FixedType {\n",
    "\n",
    "    let x_mean = calculate_mean(x_values);\n",
    "    let y_mean = calculate_mean(y_values);\n",
    "\n",
    "\n",
    "    let mx= FP16x16Mul::mul(beta_value, x_mean);\n",
    "    let intercept = y_mean - mx;\n",
    "\n",
    "    return intercept;\n",
    "\n",
    "}\n",
    "\n",
    "/// Predicts the y values using the provided x values and computed beta and intercept.\n",
    "fn predict_y_values(beta_value:FixedType, x_values: Tensor<FixedType>, y_values: Tensor<FixedType> ) -> Tensor<FixedType> {\n",
    "\n",
    "    let beta = compute_beta(x_values,y_values );\n",
    "    let intercept  = compute_intercept(beta_value, x_values, y_values );\n",
    "\n",
    "    //create a tensor to hold all the y_pred values\n",
    "    let mut y_pred_shape = array::ArrayTrait::new();\n",
    "    y_pred_shape.append(y_values.data.len());\n",
    "\n",
    "    let mut y_pred_vals = array::ArrayTrait::new();\n",
    "\n",
    "    let mut i:u32 = 0;\n",
    "    loop {\n",
    "        if i >= y_values.data.len()  {\n",
    "            break();\n",
    "        }\n",
    "        // (*x_values.data.at(i)).print();\n",
    "        let predicted_value = beta * *x_values.data.at(i) + intercept;\n",
    "        y_pred_vals.append(predicted_value);\n",
    "        i += 1;\n",
    "        };\n",
    "\n",
    "    let extra = ExtraParams { fixed_point: Option::Some(FixedImpl::FP16x16(())) };\n",
    "    let y_pred_tensor = TensorTrait::<FixedType>::new(y_pred_shape.span(), y_pred_vals.span(), Option::Some(extra));\n",
    "\n",
    "    return y_pred_tensor;\n",
    "\n",
    "}\n",
    "\n",
    "\n",
    "/// Calculates the mean squared error between the true y values and the predicted y values.\n",
    "fn compute_mse(y_values: Tensor<FixedType> , y_pred_values: Tensor<FixedType> ) -> FixedType {\n",
    "\n",
    "    let mut squared_diff_shape = array::ArrayTrait::new();\n",
    "    squared_diff_shape.append(y_values.data.len());\n",
    "\n",
    "    let mut squared_diff_vals = array::ArrayTrait::new();\n",
    "\n",
    "    let mut i:u32 = 0;\n",
    "    loop {\n",
    "        if i >= y_values.data.len()  {\n",
    "            break();\n",
    "        }\n",
    "        let diff = *y_values.data.at(i) - *y_pred_values.data.at(i);\n",
    "        let squared_diff = diff * diff;\n",
    "        squared_diff_vals.append(squared_diff);\n",
    "        i += 1;\n",
    "        };\n",
    "\n",
    "    let extra = ExtraParams { fixed_point: Option::Some(FixedImpl::FP16x16(())) };\n",
    "    let squared_diff_tensor = TensorTrait::<FixedType>::new(squared_diff_shape.span(), squared_diff_vals.span(), Option::Some(extra));\n",
    "\n",
    "    let mse = calculate_mean(squared_diff_tensor);\n",
    "\n",
    "    return mse;\n",
    "\n",
    "}\n",
    "\n",
    "/// Calculates the R squared score.\n",
    "fn calculate_r_score (y_values: Tensor<FixedType> , y_pred_values: Tensor<FixedType> ) -> FixedType {\n",
    "\n",
    "    let mean_y_value = calculate_mean(y_values);\n",
    "\n",
    "    // creating the appropriate tensor shapes and empty arrays to populate values into\n",
    "    let mut squared_diff_shape = array::ArrayTrait::new();\n",
    "    squared_diff_shape.append(y_values.data.len());\n",
    "    let mut squared_diff_vals = array::ArrayTrait::new();\n",
    "\n",
    "    let mut squared_mean_diff_shape = array::ArrayTrait::new();\n",
    "    squared_mean_diff_shape.append(y_values.data.len());\n",
    "    let mut squared_mean_diff_vals = array::ArrayTrait::new();\n",
    "\n",
    "    let mut i:u32 = 0;\n",
    "    loop {\n",
    "        if i >= y_values.data.len()  {\n",
    "            break();\n",
    "        }\n",
    "        let diff_pred = *y_values.data.at(i) - *y_pred_values.data.at(i);\n",
    "        let squared_diff = diff_pred * diff_pred;\n",
    "        squared_diff_vals.append(squared_diff);\n",
    "\n",
    "        let diff_mean = *y_values.data.at(i) - mean_y_value  ;\n",
    "        let squared_mean_diff = diff_mean * diff_mean;\n",
    "        squared_mean_diff_vals.append(squared_mean_diff);\n",
    "        i += 1;\n",
    "        };\n",
    "\n",
    "    let extra = ExtraParams { fixed_point: Option::Some(FixedImpl::FP16x16(())) };\n",
    "\n",
    "    let squared_diff_tensor = TensorTrait::<FixedType>::new(squared_diff_shape.span(), squared_diff_vals.span(), Option::Some(extra));\n",
    "    let squared_mean_diff_tensor = TensorTrait::<FixedType>::new(squared_mean_diff_shape.span(), squared_mean_diff_vals.span(), Option::Some(extra));\n",
    "\n",
    "\n",
    "    let sum_squared_diff= squared_diff_tensor.cumsum(0, Option::None(()), Option::None(()));\n",
    "    let sum_squared_mean_diff = squared_mean_diff_tensor.cumsum(0, Option::None(()), Option::None(()));\n",
    "\n",
    "\n",
    "    let r_score = FixedTrait::new_unscaled(1,false ) - *sum_squared_diff.data.at(y_values.data.len() -1) / *sum_squared_mean_diff.data.at(y_values.data.len() -1);\n",
    "\n",
    "    return r_score;\n",
    "\n",
    "\n",
    "}\n",
    "\n",
    "\n",
    "\n"
   ]
  },
  {
   "cell_type": "markdown",
   "id": "cdc968d1",
   "metadata": {},
   "source": [
    "## Running test on our model"
   ]
  },
  {
   "cell_type": "code",
   "execution_count": 2,
   "id": "cd53bcfb",
   "metadata": {},
   "outputs": [
    {
     "name": "stdout",
     "output_type": "stream",
     "text": [
      "Writing ../src/test90.cairo\n"
     ]
    }
   ],
   "source": [
    "%%writefile ../src/test.cairo\n",
    "use core::array::SpanTrait;\n",
    "use traits::Into;\n",
    "use debug::PrintTrait;\n",
    "use array::ArrayTrait;\n",
    "use verifiable_linear_regression::generated::X_values::X_values;\n",
    "use verifiable_linear_regression::generated::Y_values::Y_values;\n",
    "use verifiable_linear_regression::lin_reg_func::{calculate_mean, deviation_from_mean, compute_beta, compute_intercept, predict_y_values, compute_mse, calculate_r_score};\n",
    "\n",
    "use orion::operators::tensor::math::cumsum::cumsum_i32::cumsum;\n",
    "use orion::operators::tensor::implementations::{impl_tensor_u32::Tensor_u32, impl_tensor_fp::Tensor_fp};\n",
    "use orion::operators::tensor::core::{TensorTrait, Tensor, ExtraParams};\n",
    "use orion::operators::tensor::math::arithmetic::arithmetic_fp::core::{add, sub, mul, div};\n",
    "use orion::numbers::fixed_point::core::{FixedTrait, FixedType, FixedImpl};\n",
    "use orion::numbers::fixed_point::implementations::impl_16x16::{\n",
    "    FP16x16Impl, FP16x16Add, FP16x16AddEq, FP16x16Into, FP16x16Print, FP16x16PartialEq, FP16x16Sub,\n",
    "    FP16x16SubEq, FP16x16Mul, FP16x16MulEq, FP16x16Div, FP16x16DivEq, FP16x16PartialOrd, FP16x16Neg\n",
    "};\n",
    "\n",
    "use orion::operators::tensor::linalg::matmul::matmul_fp::core::matmul;\n",
    "\n",
    "#[test]\n",
    "#[available_gas(99999999999999999)]\n",
    "fn linear_regression_test() {\n",
    "    //Data Retrieval\n",
    "    let y_values = Y_values();\n",
    "    let x_values = X_values();\n",
    "\n",
    "    //Beta Calculation\n",
    "    let beta_value = compute_beta(x_values,y_values );\n",
    "    // beta_value.print();    // calculated gradient value\n",
    "\n",
    "    //Intercept Calculation\n",
    "    let intercept_value =  compute_intercept(beta_value, x_values, y_values );\n",
    "    // intercept_value.print();   // calculated intercept value\n",
    "\n",
    "    //Prediction Phase\n",
    "    let y_pred = predict_y_values(beta_value, x_values, y_values );\n",
    "\n",
    "    //Evaluation\n",
    "    let mse = compute_mse(y_values, y_pred);\n",
    "    // mse.print();       // mean squared error ouput\n",
    "    let r_score = calculate_r_score(y_values, y_pred);\n",
    "    // r_score.print();   // accuracy of model 0.8303375244140625 \n",
    "\n",
    "    assert(beta_value.mag > 0, 'x & y not positively correlated');\n",
    "    assert(r_score.mag > 0, 'R-Squared needs to be above 0');\n",
    "    assert(r_score.mag < 62259, 'R-Squared has to be below 65536'); // 65536 represents ONE in fp16x16.\n",
    "    assert(r_score.mag > 32768, 'Accuracy below 50% ');\n",
    "}\n"
   ]
  },
  {
   "cell_type": "code",
   "execution_count": 6,
   "id": "ae8a18aa",
   "metadata": {},
   "outputs": [],
   "source": [
    "! scarb cairo-test -f linear_regression_test"
   ]
  },
  {
   "cell_type": "code",
   "execution_count": null,
   "id": "cfbcc71c",
   "metadata": {},
   "outputs": [],
   "source": []
  }
 ],
 "metadata": {
  "kernelspec": {
   "display_name": "Python 3 (ipykernel)",
   "language": "python",
   "name": "python3"
  },
  "language_info": {
   "codemirror_mode": {
    "name": "ipython",
    "version": 3
   },
   "file_extension": ".py",
   "mimetype": "text/x-python",
   "name": "python",
   "nbconvert_exporter": "python",
   "pygments_lexer": "ipython3",
   "version": "3.9.13"
  }
 },
 "nbformat": 4,
 "nbformat_minor": 5
}
